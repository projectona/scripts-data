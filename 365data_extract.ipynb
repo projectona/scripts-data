{
 "cells": [
  {
   "cell_type": "markdown",
   "id": "217b2f4a-2abb-4349-a329-aab5c27ea849",
   "metadata": {},
   "source": [
    "# Exemplo de um código em Python para extrair dados de emails do Microsoft 365"
   ]
  },
  {
   "cell_type": "markdown",
   "id": "fcef886c-6f38-42f9-beb3-f4d27f215662",
   "metadata": {},
   "source": [
    "primeiro passo para acessar a API é gerar um Bearer Token usando o Client ID, Tenant ID e Client Secret:"
   ]
  },
  {
   "cell_type": "code",
   "execution_count": 2,
   "id": "f2bfac48-3fcf-44d8-8ddc-2987b12d4a49",
   "metadata": {},
   "outputs": [],
   "source": [
    "import requests\n",
    "\n",
    "TENANT_ID = \"SEU_TENANT_ID\"\n",
    "CLIENT_ID = \"SEU_CLIENT_ID\"\n",
    "CLIENT_SECRET = \"SEU_CLIENT_SECRET\""
   ]
  },
  {
   "cell_type": "markdown",
   "id": "fa4bdc24-8f85-4d61-99d1-b1b3f5443349",
   "metadata": {},
   "source": [
    "Url para obter o token"
   ]
  },
  {
   "cell_type": "code",
   "execution_count": 3,
   "id": "feac47d1-35f7-42d9-a116-84ed6dee7cfa",
   "metadata": {},
   "outputs": [],
   "source": [
    "token_url = f\"https://login.microsoftonline.com/{TENANT_ID}/oauth2/v2.0/token\""
   ]
  },
  {
   "cell_type": "markdown",
   "id": "36024837-c73f-4d86-80c3-bccb024da366",
   "metadata": {},
   "source": [
    "Parâmetros para a requisição"
   ]
  },
  {
   "cell_type": "code",
   "execution_count": 5,
   "id": "c08dd793-a594-47a7-86ec-f78500c4cc6e",
   "metadata": {},
   "outputs": [],
   "source": [
    "data = {\n",
    "    \"grant_type\": \"client_credentials\",\n",
    "    \"client_id\": CLIENT_ID,\n",
    "    \"client_secret\": CLIENT_SECRET,\n",
    "    \"scope\": \"https://graph.microsoft.com/.default\"\n",
    "}"
   ]
  },
  {
   "cell_type": "markdown",
   "id": "b13d9578-a3c1-4a19-8f67-6bfda4e254c7",
   "metadata": {},
   "source": [
    "Requisição para obter o token"
   ]
  },
  {
   "cell_type": "code",
   "execution_count": 6,
   "id": "3f506871-9c86-4fa0-99ca-ff9eba9107d0",
   "metadata": {},
   "outputs": [
    {
     "name": "stdout",
     "output_type": "stream",
     "text": [
      "Erro ao gerar o token: {'error': 'invalid_request', 'error_description': \"AADSTS900023: Specified tenant identifier 'seu_tenant_id' is neither a valid DNS name, nor a valid external domain. Trace ID: bb610e3b-cac0-4727-80b1-4631a0ce1a00 Correlation ID: 55fbbc12-9340-4d06-aa4b-a9497bc5d82e Timestamp: 2025-02-06 19:40:31Z\", 'error_codes': [900023], 'timestamp': '2025-02-06 19:40:31Z', 'trace_id': 'bb610e3b-cac0-4727-80b1-4631a0ce1a00', 'correlation_id': '55fbbc12-9340-4d06-aa4b-a9497bc5d82e', 'error_uri': 'https://login.microsoftonline.com/error?code=900023'}\n"
     ]
    }
   ],
   "source": [
    "response = requests.post(token_url, data=data)\n",
    "access_token = response.json().get(\"access_token\")\n",
    "\n",
    "if access_token:\n",
    "    print(\"Token gerado com sucesso!\")\n",
    "else:\n",
    "    print(\"Erro ao gerar o token:\", response.json())"
   ]
  },
  {
   "cell_type": "markdown",
   "id": "2522a9df-c25f-456f-8bd7-8f911d76689e",
   "metadata": {},
   "source": [
    "### Buscar os emails de um usuário"
   ]
  },
  {
   "cell_type": "markdown",
   "id": "baad178c-c226-41c5-b366-0f650cceef05",
   "metadata": {},
   "source": [
    "Agora que temos o access_token, podemos usá-lo para acessar os e-mails de um usuário específico:"
   ]
  },
  {
   "cell_type": "code",
   "execution_count": 7,
   "id": "14d68466-a50b-4322-b4ba-2d2182175ad0",
   "metadata": {},
   "outputs": [],
   "source": [
    "def get_user_emails(user_email):\n",
    "    \"\"\"Busca os últimos 10 e-mails de um usuário no Microsoft 365\"\"\"\n",
    "    url = f\"https://graph.microsoft.com/v1.0/users/{user_email}/messages\"\n",
    "    headers = {\"Authorization\": f\"Bearer {access_token}\"}\n",
    "\n",
    "    response = requests.get(url, headers=headers)\n",
    "    emails = response.json()\n",
    "\n",
    "    for email in emails.get(\"value\", []):\n",
    "        sender = email[\"from\"][\"emailAddress\"][\"address\"]\n",
    "        recipients = [to[\"emailAddress\"][\"address\"] for to in email.get(\"toRecipients\", [])]\n",
    "        date = email[\"receivedDateTime\"]\n",
    "\n",
    "        print(f\"De: {sender}\")\n",
    "        print(f\"Para: {recipients}\")\n",
    "        print(f\"Data: {date}\")\n",
    "        print(\"-\" * 50)\n",
    "\n",
    "# Exemplo de uso\n",
    "get_user_emails(\"usuario@empresa.com\")"
   ]
  },
  {
   "cell_type": "markdown",
   "id": "d674519b-1c64-4358-97f1-fc9585595c37",
   "metadata": {},
   "source": [
    "### Iterar por todos os usuários da Empresa"
   ]
  },
  {
   "cell_type": "markdown",
   "id": "438d5085-4d87-4784-a38f-f5be12f9328a",
   "metadata": {},
   "source": [
    "Para obter os e-mails de todos os usuários primeiro precisamos obter a lista de usuários e depois iterar por cada um"
   ]
  },
  {
   "cell_type": "code",
   "execution_count": 8,
   "id": "c7447edf-e08f-43f1-bdd4-c7a0f264a8d7",
   "metadata": {},
   "outputs": [],
   "source": [
    "def get_all_users():\n",
    "    \"\"\"Lista todos os usuários do Microsoft 365\"\"\"\n",
    "    url = \"https://graph.microsoft.com/v1.0/users\"\n",
    "    headers = {\"Authorization\": f\"Bearer {access_token}\"}\n",
    "\n",
    "    response = requests.get(url, headers=headers)\n",
    "    users = response.json()\n",
    "\n",
    "    return [user[\"mail\"] for user in users.get(\"value\", []) if user.get(\"mail\")]"
   ]
  },
  {
   "cell_type": "markdown",
   "id": "f987ccf9-b4cc-4ff0-8084-3d693fe14f78",
   "metadata": {},
   "source": [
    "busca usuários e extrai emails"
   ]
  },
  {
   "cell_type": "code",
   "execution_count": 9,
   "id": "897bf4ff-51cb-404c-93e4-3caf12e96c4b",
   "metadata": {},
   "outputs": [],
   "source": [
    "all_users = get_all_users()\n",
    "for user in all_users:\n",
    "    get_user_emails(user)"
   ]
  },
  {
   "cell_type": "code",
   "execution_count": null,
   "id": "2059ee51-b558-4212-86a7-d72b7069696a",
   "metadata": {},
   "outputs": [],
   "source": []
  }
 ],
 "metadata": {
  "kernelspec": {
   "display_name": "Python 3 (ipykernel)",
   "language": "python",
   "name": "python3"
  },
  "language_info": {
   "codemirror_mode": {
    "name": "ipython",
    "version": 3
   },
   "file_extension": ".py",
   "mimetype": "text/x-python",
   "name": "python",
   "nbconvert_exporter": "python",
   "pygments_lexer": "ipython3",
   "version": "3.11.2"
  }
 },
 "nbformat": 4,
 "nbformat_minor": 5
}
