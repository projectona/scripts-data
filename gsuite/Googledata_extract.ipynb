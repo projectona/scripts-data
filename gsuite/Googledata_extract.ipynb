{
 "cells": [
  {
   "cell_type": "markdown",
   "id": "77fc1b9c-d996-469b-aacc-16101daa137e",
   "metadata": {},
   "source": [
    "# Exemplo de um código em Python para extrair dados de emails do Google Workspace"
   ]
  },
  {
   "cell_type": "markdown",
   "id": "b1f3da9f-a101-4e0e-bb9e-3f0b87f7baa3",
   "metadata": {},
   "source": [
    "Primeiro instale a biblioteca do google para o python:"
   ]
  },
  {
   "cell_type": "code",
   "execution_count": null,
   "id": "fc15f8e3-6946-4341-aaf1-a0dab08a5032",
   "metadata": {},
   "outputs": [],
   "source": [
    "pip install google-auth google-auth-oauthlib google-auth-httplib2 google-api-python-client\n"
   ]
  },
  {
   "cell_type": "markdown",
   "id": "db4a1fd5-fc7f-40a6-be69-918c69773996",
   "metadata": {},
   "source": [
    "#### Código para listar E-mails"
   ]
  },
  {
   "cell_type": "markdown",
   "id": "8a178466-479b-4baa-8974-be570143f601",
   "metadata": {},
   "source": [
    "Impotação das bibliotecas necessárias"
   ]
  },
  {
   "cell_type": "code",
   "execution_count": 17,
   "id": "a9602a91-1f82-417b-923e-70369c8f3982",
   "metadata": {},
   "outputs": [],
   "source": [
    "from google.oauth2 import service_account\n",
    "from googleapiclient.discovery import build"
   ]
  },
  {
   "cell_type": "markdown",
   "id": "4fd71b3f-54dd-4822-8d6c-de3f86398cc7",
   "metadata": {},
   "source": [
    "Caminho do JSON da service account"
   ]
  },
  {
   "cell_type": "code",
   "execution_count": 8,
   "id": "a173b4ca-8040-4362-a2e5-115b545d067e",
   "metadata": {},
   "outputs": [],
   "source": [
    "SERVICE_ACCOUNT_FILE = \"seu_arquivo.json\""
   ]
  },
  {
   "cell_type": "markdown",
   "id": "bbd12b4c-3f2b-41e7-a1c0-a57d13655dda",
   "metadata": {},
   "source": [
    "Scopes necessários (garanta que já estão aprovados)"
   ]
  },
  {
   "cell_type": "code",
   "execution_count": 9,
   "id": "a03bc7bb-1abf-4994-b06f-91787ae570c2",
   "metadata": {},
   "outputs": [],
   "source": [
    "SCOPES = [\n",
    "    \"https://www.googleapis.com/auth/admin.directory.user.readonly\",\n",
    "    \"https://www.googleapis.com/auth/gmail.readonly\"\n",
    "]"
   ]
  },
  {
   "cell_type": "markdown",
   "id": "3c9e5fe6-f29d-4023-bca7-f8ac0b43bf18",
   "metadata": {},
   "source": [
    "E-mail do administrador do Google Workspace e autenticação do serviço"
   ]
  },
  {
   "cell_type": "code",
   "execution_count": null,
   "id": "2a6d3aad-f893-4d05-b7b2-806fb49596b3",
   "metadata": {},
   "outputs": [],
   "source": [
    "ADMIN_EMAIL = \"admin@empresa.com\"\n",
    "credentials = service_account.Credentials.from_service_account_file(\n",
    "    SERVICE_ACCOUNT_FILE, scopes=SCOPES\n",
    ").with_subject(ADMIN_EMAIL)"
   ]
  },
  {
   "cell_type": "markdown",
   "id": "6e8e5d37-ec94-49f0-8a31-2a6eb8df0db9",
   "metadata": {},
   "source": [
    "Criação dos serviços"
   ]
  },
  {
   "cell_type": "code",
   "execution_count": null,
   "id": "f2fd7cd7-b793-47d9-b208-281712ac5a4f",
   "metadata": {},
   "outputs": [],
   "source": [
    "admin_service = build(\"admin\", \"directory_v1\", credentials=credentials)\n",
    "gmail_service = build(\"gmail\", \"v1\", credentials=credentials)"
   ]
  },
  {
   "cell_type": "markdown",
   "id": "a8ef0f9f-067f-4e3f-969e-a146bcbc874e",
   "metadata": {},
   "source": [
    "Listar usuários da empresa"
   ]
  },
  {
   "cell_type": "code",
   "execution_count": 15,
   "id": "10e259f5-8035-404d-8aae-163f224f8129",
   "metadata": {},
   "outputs": [],
   "source": [
    "\n",
    "def list_all_users():\n",
    "    \"\"\"Lista todos os usuários da empresa\"\"\"\n",
    "    users = []\n",
    "    request = service.users().list(customer=\"my_customer\", maxResults=100, orderBy=\"email\")\n",
    "\n",
    "    while request is not None:\n",
    "        response = request.execute()\n",
    "        users.extend(response.get(\"users\", []))\n",
    "        request = service.users().list_next(previous_request=request, previous_response=response)\n",
    "\n",
    "    for user in users:\n",
    "        print(f\"Nome: {user['name']['fullName']}\")\n",
    "        print(f\"E-mail: {user['primaryEmail']}\")\n",
    "        print(f\"Status: {user['suspended']}\")\n",
    "        print(\"-\" * 50)"
   ]
  },
  {
   "cell_type": "markdown",
   "id": "1550b016-88be-4737-8b41-35da952ce70b",
   "metadata": {},
   "source": [
    "Obter e-mail dos usuários"
   ]
  },
  {
   "cell_type": "code",
   "execution_count": 19,
   "id": "16028d93-c97d-4a97-8ba2-b0b9bf30980e",
   "metadata": {},
   "outputs": [],
   "source": [
    "def get_all_users():\n",
    "    \"\"\"Lista todos os usuários do Google Workspace\"\"\"\n",
    "    users = []\n",
    "    request = admin_service.users().list(customer=\"my_customer\", maxResults=100, orderBy=\"email\")\n",
    "\n",
    "    while request is not None:\n",
    "        response = request.execute()\n",
    "        users.extend(response.get(\"users\", []))\n",
    "        request = admin_service.users().list_next(previous_request=request, previous_response=response)\n",
    "\n",
    "    return [user[\"primaryEmail\"] for user in users]"
   ]
  },
  {
   "cell_type": "markdown",
   "id": "f6cf362a-ef55-467f-8fcf-1d18fbcbbbb2",
   "metadata": {},
   "source": [
    "Obtem o email para cada usuário"
   ]
  },
  {
   "cell_type": "code",
   "execution_count": 20,
   "id": "cd4fb67f-46d2-433f-a893-2a3bd3cca1f0",
   "metadata": {},
   "outputs": [],
   "source": [
    "\n",
    "def get_emails_for_user(user_email):\n",
    "    \"\"\"Lista os últimos 5 e-mails de um usuário\"\"\"\n",
    "    try:\n",
    "        results = gmail_service.users().messages().list(userId=user_email, maxResults=5).execute()\n",
    "        messages = results.get(\"messages\", [])\n",
    "\n",
    "        for msg in messages:\n",
    "            message = gmail_service.users().messages().get(userId=user_email, id=msg[\"id\"]).execute()\n",
    "            headers = message[\"payload\"][\"headers\"]\n",
    "\n",
    "            sender = recipient = date = subject = None\n",
    "            for header in headers:\n",
    "                if header[\"name\"] == \"Date\":\n",
    "                    date = header[\"value\"]\n",
    "                if header[\"name\"] == \"From\":\n",
    "                    sender = header[\"value\"]\n",
    "                if header[\"name\"] == \"To\":\n",
    "                    recipient = header[\"value\"]\n",
    "                if header[\"name\"] == \"Subject\":\n",
    "                    subject = header[\"value\"]\n",
    "\n",
    "            print(f\"Usuário: {user_email}\")\n",
    "            print(f\"De: {sender}\")\n",
    "            print(f\"Para: {recipient}\")\n",
    "            print(f\"Data: {date}\")\n",
    "            print(f\"Assunto: {subject}\")\n",
    "            print(\"-\" * 50)\n",
    "\n",
    "    except Exception as e:\n",
    "        print(f\"Erro ao buscar e-mails de {user_email}: {e}\")"
   ]
  },
  {
   "cell_type": "markdown",
   "id": "d7eceb78-4557-48ef-b7e9-8397b3900cc4",
   "metadata": {},
   "source": [
    "Listar todos os usuários e buscar os e-mails de cada um"
   ]
  },
  {
   "cell_type": "code",
   "execution_count": null,
   "id": "11f3a4cb-cf1d-4c28-9c35-39315a915160",
   "metadata": {},
   "outputs": [],
   "source": [
    "all_users = get_all_users()\n",
    "for user in all_users:\n",
    "    get_emails_for_user(user)"
   ]
  }
 ],
 "metadata": {
  "kernelspec": {
   "display_name": "Python 3 (ipykernel)",
   "language": "python",
   "name": "python3"
  },
  "language_info": {
   "codemirror_mode": {
    "name": "ipython",
    "version": 3
   },
   "file_extension": ".py",
   "mimetype": "text/x-python",
   "name": "python",
   "nbconvert_exporter": "python",
   "pygments_lexer": "ipython3",
   "version": "3.11.2"
  }
 },
 "nbformat": 4,
 "nbformat_minor": 5
}
