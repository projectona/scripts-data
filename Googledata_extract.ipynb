{
 "cells": [
  {
   "cell_type": "markdown",
   "id": "77fc1b9c-d996-469b-aacc-16101daa137e",
   "metadata": {},
   "source": [
    "# Exemplo de um código em Python para extrair dados de emails do Google Workspace"
   ]
  },
  {
   "cell_type": "markdown",
   "id": "b1f3da9f-a101-4e0e-bb9e-3f0b87f7baa3",
   "metadata": {},
   "source": [
    "Primeiro instale a biblioteca do google para o python:"
   ]
  },
  {
   "cell_type": "code",
   "execution_count": 22,
   "id": "fc15f8e3-6946-4341-aaf1-a0dab08a5032",
   "metadata": {},
   "outputs": [
    {
     "name": "stdout",
     "output_type": "stream",
     "text": [
      "Requirement already satisfied: google-auth in d:\\data_extract\\venv\\lib\\site-packages (2.38.0)Note: you may need to restart the kernel to use updated packages.\n",
      "\n",
      "Requirement already satisfied: google-auth-oauthlib in d:\\data_extract\\venv\\lib\\site-packages (1.2.1)\n",
      "Requirement already satisfied: google-auth-httplib2 in d:\\data_extract\\venv\\lib\\site-packages (0.2.0)\n",
      "Requirement already satisfied: google-api-python-client in d:\\data_extract\\venv\\lib\\site-packages (2.160.0)\n",
      "Requirement already satisfied: cachetools<6.0,>=2.0.0 in d:\\data_extract\\venv\\lib\\site-packages (from google-auth) (5.5.1)\n",
      "Requirement already satisfied: pyasn1-modules>=0.2.1 in d:\\data_extract\\venv\\lib\\site-packages (from google-auth) (0.4.1)\n",
      "Requirement already satisfied: rsa<5,>=3.1.4 in d:\\data_extract\\venv\\lib\\site-packages (from google-auth) (4.9)\n",
      "Requirement already satisfied: requests-oauthlib>=0.7.0 in d:\\data_extract\\venv\\lib\\site-packages (from google-auth-oauthlib) (2.0.0)\n",
      "Requirement already satisfied: httplib2>=0.19.0 in d:\\data_extract\\venv\\lib\\site-packages (from google-auth-httplib2) (0.22.0)\n",
      "Requirement already satisfied: google-api-core!=2.0.*,!=2.1.*,!=2.2.*,!=2.3.0,<3.0.0.dev0,>=1.31.5 in d:\\data_extract\\venv\\lib\\site-packages (from google-api-python-client) (2.24.1)\n",
      "Requirement already satisfied: uritemplate<5,>=3.0.1 in d:\\data_extract\\venv\\lib\\site-packages (from google-api-python-client) (4.1.1)\n",
      "Requirement already satisfied: googleapis-common-protos<2.0.dev0,>=1.56.2 in d:\\data_extract\\venv\\lib\\site-packages (from google-api-core!=2.0.*,!=2.1.*,!=2.2.*,!=2.3.0,<3.0.0.dev0,>=1.31.5->google-api-python-client) (1.66.0)\n",
      "Requirement already satisfied: protobuf!=3.20.0,!=3.20.1,!=4.21.0,!=4.21.1,!=4.21.2,!=4.21.3,!=4.21.4,!=4.21.5,<6.0.0.dev0,>=3.19.5 in d:\\data_extract\\venv\\lib\\site-packages (from google-api-core!=2.0.*,!=2.1.*,!=2.2.*,!=2.3.0,<3.0.0.dev0,>=1.31.5->google-api-python-client) (5.29.3)\n",
      "Requirement already satisfied: proto-plus<2.0.0dev,>=1.22.3 in d:\\data_extract\\venv\\lib\\site-packages (from google-api-core!=2.0.*,!=2.1.*,!=2.2.*,!=2.3.0,<3.0.0.dev0,>=1.31.5->google-api-python-client) (1.26.0)\n",
      "Requirement already satisfied: requests<3.0.0.dev0,>=2.18.0 in d:\\data_extract\\venv\\lib\\site-packages (from google-api-core!=2.0.*,!=2.1.*,!=2.2.*,!=2.3.0,<3.0.0.dev0,>=1.31.5->google-api-python-client) (2.32.3)\n",
      "Requirement already satisfied: pyparsing!=3.0.0,!=3.0.1,!=3.0.2,!=3.0.3,<4,>=2.4.2 in d:\\data_extract\\venv\\lib\\site-packages (from httplib2>=0.19.0->google-auth-httplib2) (3.2.1)\n",
      "Requirement already satisfied: pyasn1<0.7.0,>=0.4.6 in d:\\data_extract\\venv\\lib\\site-packages (from pyasn1-modules>=0.2.1->google-auth) (0.6.1)\n",
      "Requirement already satisfied: oauthlib>=3.0.0 in d:\\data_extract\\venv\\lib\\site-packages (from requests-oauthlib>=0.7.0->google-auth-oauthlib) (3.2.2)\n",
      "Requirement already satisfied: charset-normalizer<4,>=2 in d:\\data_extract\\venv\\lib\\site-packages (from requests<3.0.0.dev0,>=2.18.0->google-api-core!=2.0.*,!=2.1.*,!=2.2.*,!=2.3.0,<3.0.0.dev0,>=1.31.5->google-api-python-client) (3.4.1)\n",
      "Requirement already satisfied: idna<4,>=2.5 in d:\\data_extract\\venv\\lib\\site-packages (from requests<3.0.0.dev0,>=2.18.0->google-api-core!=2.0.*,!=2.1.*,!=2.2.*,!=2.3.0,<3.0.0.dev0,>=1.31.5->google-api-python-client) (3.10)\n",
      "Requirement already satisfied: urllib3<3,>=1.21.1 in d:\\data_extract\\venv\\lib\\site-packages (from requests<3.0.0.dev0,>=2.18.0->google-api-core!=2.0.*,!=2.1.*,!=2.2.*,!=2.3.0,<3.0.0.dev0,>=1.31.5->google-api-python-client) (2.3.0)\n",
      "Requirement already satisfied: certifi>=2017.4.17 in d:\\data_extract\\venv\\lib\\site-packages (from requests<3.0.0.dev0,>=2.18.0->google-api-core!=2.0.*,!=2.1.*,!=2.2.*,!=2.3.0,<3.0.0.dev0,>=1.31.5->google-api-python-client) (2025.1.31)\n"
     ]
    },
    {
     "name": "stderr",
     "output_type": "stream",
     "text": [
      "\n",
      "[notice] A new release of pip available: 22.3.1 -> 25.0\n",
      "[notice] To update, run: python.exe -m pip install --upgrade pip\n"
     ]
    }
   ],
   "source": [
    "pip install google-auth google-auth-oauthlib google-auth-httplib2 google-api-python-client\n"
   ]
  },
  {
   "cell_type": "markdown",
   "id": "db4a1fd5-fc7f-40a6-be69-918c69773996",
   "metadata": {},
   "source": [
    "#### Código para listar E-mails"
   ]
  },
  {
   "cell_type": "markdown",
   "id": "8a178466-479b-4baa-8974-be570143f601",
   "metadata": {},
   "source": [
    "Impotação das bibliotecas necessárias"
   ]
  },
  {
   "cell_type": "code",
   "execution_count": 17,
   "id": "a9602a91-1f82-417b-923e-70369c8f3982",
   "metadata": {},
   "outputs": [],
   "source": [
    "from google.oauth2 import service_account\n",
    "from googleapiclient.discovery import build"
   ]
  },
  {
   "cell_type": "markdown",
   "id": "4fd71b3f-54dd-4822-8d6c-de3f86398cc7",
   "metadata": {},
   "source": [
    "Caminho do JSON da service account"
   ]
  },
  {
   "cell_type": "code",
   "execution_count": 8,
   "id": "a173b4ca-8040-4362-a2e5-115b545d067e",
   "metadata": {},
   "outputs": [],
   "source": [
    "SERVICE_ACCOUNT_FILE = \"seu_arquivo.json\""
   ]
  },
  {
   "cell_type": "markdown",
   "id": "bbd12b4c-3f2b-41e7-a1c0-a57d13655dda",
   "metadata": {},
   "source": [
    "Scopes necessários (garanta que já estão aprovados)"
   ]
  },
  {
   "cell_type": "code",
   "execution_count": 9,
   "id": "a03bc7bb-1abf-4994-b06f-91787ae570c2",
   "metadata": {},
   "outputs": [],
   "source": [
    "SCOPES = [\n",
    "    \"https://www.googleapis.com/auth/admin.directory.user.readonly\",\n",
    "    \"https://www.googleapis.com/auth/gmail.readonly\"\n",
    "]"
   ]
  },
  {
   "cell_type": "markdown",
   "id": "3c9e5fe6-f29d-4023-bca7-f8ac0b43bf18",
   "metadata": {},
   "source": [
    "E-mail do administrador do Google Workspace e autenticação do serviço"
   ]
  },
  {
   "cell_type": "code",
   "execution_count": 18,
   "id": "2a6d3aad-f893-4d05-b7b2-806fb49596b3",
   "metadata": {},
   "outputs": [
    {
     "ename": "FileNotFoundError",
     "evalue": "[Errno 2] No such file or directory: 'seu_arquivo.json'",
     "output_type": "error",
     "traceback": [
      "\u001b[1;31m---------------------------------------------------------------------------\u001b[0m",
      "\u001b[1;31mFileNotFoundError\u001b[0m                         Traceback (most recent call last)",
      "Cell \u001b[1;32mIn[18], line 2\u001b[0m\n\u001b[0;32m      1\u001b[0m ADMIN_EMAIL \u001b[38;5;241m=\u001b[39m \u001b[38;5;124m\"\u001b[39m\u001b[38;5;124madmin@empresa.com\u001b[39m\u001b[38;5;124m\"\u001b[39m\n\u001b[1;32m----> 2\u001b[0m credentials \u001b[38;5;241m=\u001b[39m \u001b[43mservice_account\u001b[49m\u001b[38;5;241;43m.\u001b[39;49m\u001b[43mCredentials\u001b[49m\u001b[38;5;241;43m.\u001b[39;49m\u001b[43mfrom_service_account_file\u001b[49m\u001b[43m(\u001b[49m\n\u001b[0;32m      3\u001b[0m \u001b[43m    \u001b[49m\u001b[43mSERVICE_ACCOUNT_FILE\u001b[49m\u001b[43m,\u001b[49m\u001b[43m \u001b[49m\u001b[43mscopes\u001b[49m\u001b[38;5;241;43m=\u001b[39;49m\u001b[43mSCOPES\u001b[49m\n\u001b[0;32m      4\u001b[0m \u001b[43m)\u001b[49m\u001b[38;5;241m.\u001b[39mwith_subject(ADMIN_EMAIL)\n",
      "File \u001b[1;32mD:\\data_extract\\venv\\Lib\\site-packages\\google\\oauth2\\service_account.py:260\u001b[0m, in \u001b[0;36mCredentials.from_service_account_file\u001b[1;34m(cls, filename, **kwargs)\u001b[0m\n\u001b[0;32m    248\u001b[0m \u001b[38;5;129m@classmethod\u001b[39m\n\u001b[0;32m    249\u001b[0m \u001b[38;5;28;01mdef\u001b[39;00m\u001b[38;5;250m \u001b[39m\u001b[38;5;21mfrom_service_account_file\u001b[39m(\u001b[38;5;28mcls\u001b[39m, filename, \u001b[38;5;241m*\u001b[39m\u001b[38;5;241m*\u001b[39mkwargs):\n\u001b[0;32m    250\u001b[0m \u001b[38;5;250m    \u001b[39m\u001b[38;5;124;03m\"\"\"Creates a Credentials instance from a service account json file.\u001b[39;00m\n\u001b[0;32m    251\u001b[0m \n\u001b[0;32m    252\u001b[0m \u001b[38;5;124;03m    Args:\u001b[39;00m\n\u001b[1;32m   (...)\u001b[0m\n\u001b[0;32m    258\u001b[0m \u001b[38;5;124;03m            credentials.\u001b[39;00m\n\u001b[0;32m    259\u001b[0m \u001b[38;5;124;03m    \"\"\"\u001b[39;00m\n\u001b[1;32m--> 260\u001b[0m     info, signer \u001b[38;5;241m=\u001b[39m \u001b[43m_service_account_info\u001b[49m\u001b[38;5;241;43m.\u001b[39;49m\u001b[43mfrom_filename\u001b[49m\u001b[43m(\u001b[49m\n\u001b[0;32m    261\u001b[0m \u001b[43m        \u001b[49m\u001b[43mfilename\u001b[49m\u001b[43m,\u001b[49m\u001b[43m \u001b[49m\u001b[43mrequire\u001b[49m\u001b[38;5;241;43m=\u001b[39;49m\u001b[43m[\u001b[49m\u001b[38;5;124;43m\"\u001b[39;49m\u001b[38;5;124;43mclient_email\u001b[39;49m\u001b[38;5;124;43m\"\u001b[39;49m\u001b[43m,\u001b[49m\u001b[43m \u001b[49m\u001b[38;5;124;43m\"\u001b[39;49m\u001b[38;5;124;43mtoken_uri\u001b[39;49m\u001b[38;5;124;43m\"\u001b[39;49m\u001b[43m]\u001b[49m\n\u001b[0;32m    262\u001b[0m \u001b[43m    \u001b[49m\u001b[43m)\u001b[49m\n\u001b[0;32m    263\u001b[0m     \u001b[38;5;28;01mreturn\u001b[39;00m \u001b[38;5;28mcls\u001b[39m\u001b[38;5;241m.\u001b[39m_from_signer_and_info(signer, info, \u001b[38;5;241m*\u001b[39m\u001b[38;5;241m*\u001b[39mkwargs)\n",
      "File \u001b[1;32mD:\\data_extract\\venv\\Lib\\site-packages\\google\\auth\\_service_account_info.py:78\u001b[0m, in \u001b[0;36mfrom_filename\u001b[1;34m(filename, require, use_rsa_signer)\u001b[0m\n\u001b[0;32m     64\u001b[0m \u001b[38;5;28;01mdef\u001b[39;00m\u001b[38;5;250m \u001b[39m\u001b[38;5;21mfrom_filename\u001b[39m(filename, require\u001b[38;5;241m=\u001b[39m\u001b[38;5;28;01mNone\u001b[39;00m, use_rsa_signer\u001b[38;5;241m=\u001b[39m\u001b[38;5;28;01mTrue\u001b[39;00m):\n\u001b[0;32m     65\u001b[0m \u001b[38;5;250m    \u001b[39m\u001b[38;5;124;03m\"\"\"Reads a Google service account JSON file and returns its parsed info.\u001b[39;00m\n\u001b[0;32m     66\u001b[0m \n\u001b[0;32m     67\u001b[0m \u001b[38;5;124;03m    Args:\u001b[39;00m\n\u001b[1;32m   (...)\u001b[0m\n\u001b[0;32m     76\u001b[0m \u001b[38;5;124;03m            info and a signer instance.\u001b[39;00m\n\u001b[0;32m     77\u001b[0m \u001b[38;5;124;03m    \"\"\"\u001b[39;00m\n\u001b[1;32m---> 78\u001b[0m     \u001b[38;5;28;01mwith\u001b[39;00m \u001b[43mio\u001b[49m\u001b[38;5;241;43m.\u001b[39;49m\u001b[43mopen\u001b[49m\u001b[43m(\u001b[49m\u001b[43mfilename\u001b[49m\u001b[43m,\u001b[49m\u001b[43m \u001b[49m\u001b[38;5;124;43m\"\u001b[39;49m\u001b[38;5;124;43mr\u001b[39;49m\u001b[38;5;124;43m\"\u001b[39;49m\u001b[43m,\u001b[49m\u001b[43m \u001b[49m\u001b[43mencoding\u001b[49m\u001b[38;5;241;43m=\u001b[39;49m\u001b[38;5;124;43m\"\u001b[39;49m\u001b[38;5;124;43mutf-8\u001b[39;49m\u001b[38;5;124;43m\"\u001b[39;49m\u001b[43m)\u001b[49m \u001b[38;5;28;01mas\u001b[39;00m json_file:\n\u001b[0;32m     79\u001b[0m         data \u001b[38;5;241m=\u001b[39m json\u001b[38;5;241m.\u001b[39mload(json_file)\n\u001b[0;32m     80\u001b[0m         \u001b[38;5;28;01mreturn\u001b[39;00m data, from_dict(data, require\u001b[38;5;241m=\u001b[39mrequire, use_rsa_signer\u001b[38;5;241m=\u001b[39muse_rsa_signer)\n",
      "\u001b[1;31mFileNotFoundError\u001b[0m: [Errno 2] No such file or directory: 'seu_arquivo.json'"
     ]
    }
   ],
   "source": [
    "ADMIN_EMAIL = \"admin@empresa.com\"\n",
    "credentials = service_account.Credentials.from_service_account_file(\n",
    "    SERVICE_ACCOUNT_FILE, scopes=SCOPES\n",
    ").with_subject(ADMIN_EMAIL)"
   ]
  },
  {
   "cell_type": "markdown",
   "id": "6e8e5d37-ec94-49f0-8a31-2a6eb8df0db9",
   "metadata": {},
   "source": [
    "Criação dos serviços"
   ]
  },
  {
   "cell_type": "code",
   "execution_count": null,
   "id": "f2fd7cd7-b793-47d9-b208-281712ac5a4f",
   "metadata": {},
   "outputs": [],
   "source": [
    "admin_service = build(\"admin\", \"directory_v1\", credentials=credentials)\n",
    "gmail_service = build(\"gmail\", \"v1\", credentials=credentials)"
   ]
  },
  {
   "cell_type": "markdown",
   "id": "a8ef0f9f-067f-4e3f-969e-a146bcbc874e",
   "metadata": {},
   "source": [
    "Listar usuários da empresa"
   ]
  },
  {
   "cell_type": "code",
   "execution_count": 15,
   "id": "10e259f5-8035-404d-8aae-163f224f8129",
   "metadata": {},
   "outputs": [],
   "source": [
    "\n",
    "def list_all_users():\n",
    "    \"\"\"Lista todos os usuários da empresa\"\"\"\n",
    "    users = []\n",
    "    request = service.users().list(customer=\"my_customer\", maxResults=100, orderBy=\"email\")\n",
    "\n",
    "    while request is not None:\n",
    "        response = request.execute()\n",
    "        users.extend(response.get(\"users\", []))\n",
    "        request = service.users().list_next(previous_request=request, previous_response=response)\n",
    "\n",
    "    for user in users:\n",
    "        print(f\"Nome: {user['name']['fullName']}\")\n",
    "        print(f\"E-mail: {user['primaryEmail']}\")\n",
    "        print(f\"Status: {user['suspended']}\")\n",
    "        print(\"-\" * 50)"
   ]
  },
  {
   "cell_type": "markdown",
   "id": "1550b016-88be-4737-8b41-35da952ce70b",
   "metadata": {},
   "source": [
    "Obter e-mail dos usuários"
   ]
  },
  {
   "cell_type": "code",
   "execution_count": 19,
   "id": "16028d93-c97d-4a97-8ba2-b0b9bf30980e",
   "metadata": {},
   "outputs": [],
   "source": [
    "def get_all_users():\n",
    "    \"\"\"Lista todos os usuários do Google Workspace\"\"\"\n",
    "    users = []\n",
    "    request = admin_service.users().list(customer=\"my_customer\", maxResults=100, orderBy=\"email\")\n",
    "\n",
    "    while request is not None:\n",
    "        response = request.execute()\n",
    "        users.extend(response.get(\"users\", []))\n",
    "        request = admin_service.users().list_next(previous_request=request, previous_response=response)\n",
    "\n",
    "    return [user[\"primaryEmail\"] for user in users]"
   ]
  },
  {
   "cell_type": "markdown",
   "id": "f6cf362a-ef55-467f-8fcf-1d18fbcbbbb2",
   "metadata": {},
   "source": [
    "Obtem o email para cada usuário"
   ]
  },
  {
   "cell_type": "code",
   "execution_count": 20,
   "id": "cd4fb67f-46d2-433f-a893-2a3bd3cca1f0",
   "metadata": {},
   "outputs": [],
   "source": [
    "\n",
    "def get_emails_for_user(user_email):\n",
    "    \"\"\"Lista os últimos 5 e-mails de um usuário\"\"\"\n",
    "    try:\n",
    "        results = gmail_service.users().messages().list(userId=user_email, maxResults=5).execute()\n",
    "        messages = results.get(\"messages\", [])\n",
    "\n",
    "        for msg in messages:\n",
    "            message = gmail_service.users().messages().get(userId=user_email, id=msg[\"id\"]).execute()\n",
    "            headers = message[\"payload\"][\"headers\"]\n",
    "\n",
    "            sender = recipient = date = subject = None\n",
    "            for header in headers:\n",
    "                if header[\"name\"] == \"Date\":\n",
    "                    date = header[\"value\"]\n",
    "                if header[\"name\"] == \"From\":\n",
    "                    sender = header[\"value\"]\n",
    "                if header[\"name\"] == \"To\":\n",
    "                    recipient = header[\"value\"]\n",
    "                if header[\"name\"] == \"Subject\":\n",
    "                    subject = header[\"value\"]\n",
    "\n",
    "            print(f\"Usuário: {user_email}\")\n",
    "            print(f\"De: {sender}\")\n",
    "            print(f\"Para: {recipient}\")\n",
    "            print(f\"Data: {date}\")\n",
    "            print(f\"Assunto: {subject}\")\n",
    "            print(\"-\" * 50)\n",
    "\n",
    "    except Exception as e:\n",
    "        print(f\"Erro ao buscar e-mails de {user_email}: {e}\")"
   ]
  },
  {
   "cell_type": "markdown",
   "id": "d7eceb78-4557-48ef-b7e9-8397b3900cc4",
   "metadata": {},
   "source": [
    "Listar todos os usuários e buscar os e-mails de cada um"
   ]
  },
  {
   "cell_type": "code",
   "execution_count": 21,
   "id": "11f3a4cb-cf1d-4c28-9c35-39315a915160",
   "metadata": {},
   "outputs": [
    {
     "ename": "NameError",
     "evalue": "name 'admin_service' is not defined",
     "output_type": "error",
     "traceback": [
      "\u001b[1;31m---------------------------------------------------------------------------\u001b[0m",
      "\u001b[1;31mNameError\u001b[0m                                 Traceback (most recent call last)",
      "Cell \u001b[1;32mIn[21], line 1\u001b[0m\n\u001b[1;32m----> 1\u001b[0m all_users \u001b[38;5;241m=\u001b[39m \u001b[43mget_all_users\u001b[49m\u001b[43m(\u001b[49m\u001b[43m)\u001b[49m\n\u001b[0;32m      2\u001b[0m \u001b[38;5;28;01mfor\u001b[39;00m user \u001b[38;5;129;01min\u001b[39;00m all_users:\n\u001b[0;32m      3\u001b[0m     get_emails_for_user(user)\n",
      "Cell \u001b[1;32mIn[19], line 4\u001b[0m, in \u001b[0;36mget_all_users\u001b[1;34m()\u001b[0m\n\u001b[0;32m      2\u001b[0m \u001b[38;5;250m\u001b[39m\u001b[38;5;124;03m\"\"\"Lista todos os usuários do Google Workspace\"\"\"\u001b[39;00m\n\u001b[0;32m      3\u001b[0m users \u001b[38;5;241m=\u001b[39m []\n\u001b[1;32m----> 4\u001b[0m request \u001b[38;5;241m=\u001b[39m \u001b[43madmin_service\u001b[49m\u001b[38;5;241m.\u001b[39musers()\u001b[38;5;241m.\u001b[39mlist(customer\u001b[38;5;241m=\u001b[39m\u001b[38;5;124m\"\u001b[39m\u001b[38;5;124mmy_customer\u001b[39m\u001b[38;5;124m\"\u001b[39m, maxResults\u001b[38;5;241m=\u001b[39m\u001b[38;5;241m100\u001b[39m, orderBy\u001b[38;5;241m=\u001b[39m\u001b[38;5;124m\"\u001b[39m\u001b[38;5;124memail\u001b[39m\u001b[38;5;124m\"\u001b[39m)\n\u001b[0;32m      6\u001b[0m \u001b[38;5;28;01mwhile\u001b[39;00m request \u001b[38;5;129;01mis\u001b[39;00m \u001b[38;5;129;01mnot\u001b[39;00m \u001b[38;5;28;01mNone\u001b[39;00m:\n\u001b[0;32m      7\u001b[0m     response \u001b[38;5;241m=\u001b[39m request\u001b[38;5;241m.\u001b[39mexecute()\n",
      "\u001b[1;31mNameError\u001b[0m: name 'admin_service' is not defined"
     ]
    }
   ],
   "source": [
    "all_users = get_all_users()\n",
    "for user in all_users:\n",
    "    get_emails_for_user(user)"
   ]
  },
  {
   "cell_type": "code",
   "execution_count": null,
   "id": "9d036deb-89f4-436e-b059-f78ab5101323",
   "metadata": {},
   "outputs": [],
   "source": []
  }
 ],
 "metadata": {
  "kernelspec": {
   "display_name": "Python 3 (ipykernel)",
   "language": "python",
   "name": "python3"
  },
  "language_info": {
   "codemirror_mode": {
    "name": "ipython",
    "version": 3
   },
   "file_extension": ".py",
   "mimetype": "text/x-python",
   "name": "python",
   "nbconvert_exporter": "python",
   "pygments_lexer": "ipython3",
   "version": "3.11.2"
  }
 },
 "nbformat": 4,
 "nbformat_minor": 5
}
